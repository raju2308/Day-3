{
 "cells": [
  {
   "cell_type": "code",
   "execution_count": null,
   "metadata": {},
   "outputs": [
    {
     "name": "stdout",
     "output_type": "stream",
     "text": [
      "Enter the Altitude:1000\n",
      "Safe to Land\n",
      "Enter the Altitude:4500\n",
      "Bring down to 1000\n",
      "Enter the Altitude:6500\n",
      "Turn Around\n"
     ]
    }
   ],
   "source": [
    "for alt in range(1000,10000):\n",
    "    alt=int(input(\"Enter the Altitude:\"))\n",
    "    if alt==1000:\n",
    "        print(\"Safe to Land\")\n",
    "    elif alt>1000 and alt<5000:\n",
    "        print(\"Bring down to 1000\")\n",
    "    else:\n",
    "        print(\"Turn Around\")"
   ]
  },
  {
   "cell_type": "code",
   "execution_count": null,
   "metadata": {},
   "outputs": [],
   "source": []
  }
 ],
 "metadata": {
  "kernelspec": {
   "display_name": "Python 3",
   "language": "python",
   "name": "python3"
  },
  "language_info": {
   "codemirror_mode": {
    "name": "ipython",
    "version": 3
   },
   "file_extension": ".py",
   "mimetype": "text/x-python",
   "name": "python",
   "nbconvert_exporter": "python",
   "pygments_lexer": "ipython3",
   "version": "3.7.6"
  }
 },
 "nbformat": 4,
 "nbformat_minor": 4
}
